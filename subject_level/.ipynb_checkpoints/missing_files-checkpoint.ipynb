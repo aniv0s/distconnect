{
 "metadata": {
  "name": ""
 },
 "nbformat": 3,
 "nbformat_minor": 0,
 "worksheets": [
  {
   "cells": [
    {
     "cell_type": "heading",
     "level": 1,
     "metadata": {},
     "source": [
      "missing files"
     ]
    },
    {
     "cell_type": "code",
     "collapsed": false,
     "input": [
      "import pandas as pd\n",
      "import os, glob, json, time, datetime\n",
      "\n",
      "# directories\n",
      "docDir = '/afs/cbs.mpg.de/projects/mar005_lsd-lemon-surf/documents'\n",
      "topoDir = '/scr/liberia1/workspace/topography/utils/dist_matrix'\n",
      "fs_mark = '/scr/ilz2/LEMON_LSD/freesurfer_mark/*'\n",
      "\n",
      "# input files\n",
      "df_f = max(glob.iglob('%s/overview_files/data_overview_20*.pkl' % docDir), key=os.path.getctime)\n",
      "df = pd.read_pickle(df_f)"
     ],
     "language": "python",
     "metadata": {},
     "outputs": [],
     "prompt_number": 1
    },
    {
     "cell_type": "heading",
     "level": 2,
     "metadata": {},
     "source": [
      "structural data"
     ]
    },
    {
     "cell_type": "heading",
     "level": 3,
     "metadata": {},
     "source": [
      "missing geodesic distance matrices"
     ]
    },
    {
     "cell_type": "code",
     "collapsed": false,
     "input": [
      "for hemi in ['lh', 'rh']:\n",
      "    print hemi, df['subject'][(df['fs_files_%s' %hemi]==1) \n",
      "                                    & (df['geo_distance_%s' % hemi]==0)].tolist()"
     ],
     "language": "python",
     "metadata": {},
     "outputs": [
      {
       "output_type": "stream",
       "stream": "stdout",
       "text": [
        "lh ['23668', '23689', '23850', '24002', '24757', '24843', '24877', '24899', '24944', '25165', '26120', '26350', '26435', '26471', '26626', '26693', '26854', '26902', '26980', '27109', '27110', '27111', '27112', '27134', '27174', '27325', '27345', '27346', '27353', '27354', '27360', '27361', '27372', '27428', '27565', '27566', '27611', '27612', '27614', '27616', '27619', '27622', '27683', '27722', '27773', '27774', '27830', '27833', '27864', '27868', '27880', '27892', '27895', '27910', '27937', '27951', '27963', '27968', '27969', '27990', '28036', '28089', '28098']\n",
        "rh ['13753', '23650', '23689', '23741', '23860', '24275', '24730', '24945', '25195', '25201', '26266', '26284', '26407', '26496', '26498', '26595', '26618', '26635', '26687', '26693', '26782', '26801', '26839', '26844', '26855', '26980', '27109', '27110', '27111', '27112', '27134', '27174', '27325', '27345', '27346', '27353', '27354', '27360', '27361', '27372', '27428', '27565', '27566', '27611', '27612', '27614', '27616', '27619', '27622', '27683', '27722', '27773', '27774', '27833', '27834', '27864', '27868', '27880', '27892', '27895', '27910', '27937', '27951', '27963', '27968', '27969', '27990', '28036', '28098']\n"
       ]
      }
     ],
     "prompt_number": 3
    },
    {
     "cell_type": "heading",
     "level": 3,
     "metadata": {},
     "source": [
      "missing euclidean distance"
     ]
    },
    {
     "cell_type": "code",
     "collapsed": false,
     "input": [
      "for hemi in ['lh', 'rh']:\n",
      "    print hemi, df['subject'][(df['fs_files_%s' %hemi]==1) \n",
      "                                    & (df['eucl_distance_%s' % hemi]==0)].tolist()"
     ],
     "language": "python",
     "metadata": {},
     "outputs": [
      {
       "output_type": "stream",
       "stream": "stdout",
       "text": [
        "lh ['26693', '27773', '27895', '28036']\n",
        "rh ['26693', '27773', '27895', '28036']\n"
       ]
      }
     ],
     "prompt_number": 4
    },
    {
     "cell_type": "heading",
     "level": 2,
     "metadata": {},
     "source": [
      "LSD"
     ]
    },
    {
     "cell_type": "heading",
     "level": 3,
     "metadata": {},
     "source": [
      "subjects missing resting scans in surface space"
     ]
    },
    {
     "cell_type": "code",
     "collapsed": false,
     "input": [
      "for hemi in ['lh', 'rh']:\n",
      "    for scan in ['1a', '1b', '2a', '2b']:\n",
      "        print hemi, scan, df['subject'][(df['lsd_rest%s_native' %scan]==1) \n",
      "                                        & (df['fs_files_%s' %hemi]==1) \n",
      "                                        & (df['lsd_surf_raw_%s_%s' % (scan,hemi)]==0)].tolist()"
     ],
     "language": "python",
     "metadata": {},
     "outputs": [
      {
       "output_type": "stream",
       "stream": "stdout",
       "text": [
        "lh 1a ['23884', '26693', '27773', '27895', '27954', '28036']\n",
        "lh 1b ['23884', '26693', '27773', '27895', '27954', '28036']\n",
        "lh 2a ['23884', '26693', '27773', '27895', '27954', '28036']\n",
        "lh 2b ['23884', '26693', '27773', '27895', '27954', '28036']\n",
        "rh 1a ['23884', '26693', '27773', '27895', '27954', '28036']\n",
        "rh 1b ['23884', '26693', '27773', '27895', '27954', '28036']\n",
        "rh 2a ['23884', '26693', '27773', '27895', '27954', '28036']\n",
        "rh 2b ['23884', '26693', '27773', '27895', '27954', '28036']\n"
       ]
      }
     ],
     "prompt_number": 5
    },
    {
     "cell_type": "heading",
     "level": 3,
     "metadata": {},
     "source": [
      "subjects missing (interpolated) resting scans in surface space"
     ]
    },
    {
     "cell_type": "code",
     "collapsed": false,
     "input": [
      "# lsd\n",
      "for hemi in ['lh', 'rh']:\n",
      "    for scan in ['1a', '1b', '2a', '2b']:\n",
      "        print hemi, scan, df['subject'][(df['lsd_surf_raw_%s_%s' % (scan,hemi)]==1)\n",
      "                                        & (df['fs_files_%s' %hemi]==1)\n",
      "                                        & (df['lsd_surf_interp_%s_%s' % (scan,hemi)]==0)].tolist()"
     ],
     "language": "python",
     "metadata": {},
     "outputs": [
      {
       "output_type": "stream",
       "stream": "stdout",
       "text": [
        "lh 1a ['28098']\n",
        "lh 1b ['28098']\n",
        "lh 2a ['28098']\n",
        "lh 2b ['28098']\n",
        "rh 1a ['28098']\n",
        "rh 1b ['28098']\n",
        "rh 2a ['28098']\n",
        "rh 2b ['28098']\n"
       ]
      }
     ],
     "prompt_number": 6
    },
    {
     "cell_type": "heading",
     "level": 3,
     "metadata": {},
     "source": [
      "subjects missing correlation matrices"
     ]
    },
    {
     "cell_type": "code",
     "collapsed": false,
     "input": [
      "for hemi in ['lh', 'rh']:\n",
      "    for scan in ['1a', '1b', '2a', '2b']:\n",
      "        print hemi, scan, df['subject'][(df['lsd_surf_interp_%s_%s' % (scan,hemi)]==1) \n",
      "                                        & (df['lsd_corr_%s_%s' % (scan,hemi)]==0)].tolist()"
     ],
     "language": "python",
     "metadata": {},
     "outputs": [
      {
       "output_type": "stream",
       "stream": "stdout",
       "text": [
        "lh 1a []\n",
        "lh 1b []\n",
        "lh 2a []\n",
        "lh 2b []\n",
        "rh 1a []\n",
        "rh 1b []\n",
        "rh 2a []\n",
        "rh 2b []\n"
       ]
      }
     ],
     "prompt_number": 7
    },
    {
     "cell_type": "heading",
     "level": 3,
     "metadata": {},
     "source": [
      "missing geo meanDist maps"
     ]
    },
    {
     "cell_type": "code",
     "collapsed": false,
     "input": [
      "for hemi in ['lh', 'rh']:\n",
      "    for scan in ['1a', '1b', '2a', '2b']:\n",
      "        for thr in [70, 75, 80, 85, 90, 95, 98]:  \n",
      "            print hemi, scan, thr, df['subject'][(df['lsd_corr_%s_%s' % (scan, hemi)]==1)\n",
      "                                                 & (df['geo_distance_%s' % hemi]==1)\n",
      "                                                 & (df['lsd_meanDist_geo_%s_%s_%s' % (scan,thr,hemi)]==0)].shape"
     ],
     "language": "python",
     "metadata": {},
     "outputs": [
      {
       "output_type": "stream",
       "stream": "stdout",
       "text": [
        "lh 1a 70 (0,)\n",
        "lh 1a 75 (0,)\n",
        "lh 1a 80 (0,)\n",
        "lh 1a 85 (0,)\n",
        "lh 1a 90 (0,)\n",
        "lh 1a 95 (0,)\n",
        "lh 1a 98 (0,)\n",
        "lh 1b 70 (0,)\n",
        "lh 1b 75 (0,)\n",
        "lh 1b 80 (0,)\n",
        "lh 1b 85 (0,)\n",
        "lh 1b 90 (0,)\n",
        "lh 1b 95 (0,)\n",
        "lh 1b 98 (0,)\n",
        "lh 2a 70 (0,)\n",
        "lh 2a 75 (0,)\n",
        "lh 2a 80 (0,)\n",
        "lh 2a 85 (0,)\n",
        "lh 2a 90 (0,)\n",
        "lh 2a 95 (0,)\n",
        "lh 2a 98 (0,)\n",
        "lh 2b 70 (0,)\n",
        "lh 2b 75 (0,)\n",
        "lh 2b 80 (0,)\n",
        "lh 2b 85 (0,)\n",
        "lh 2b 90 (0,)\n",
        "lh 2b 95 (0,)\n",
        "lh 2b 98 (0,)\n",
        "rh 1a 70 (6,)\n",
        "rh 1a 75 (6,)\n",
        "rh 1a 80 (6,)\n",
        "rh 1a 85 (6,)\n",
        "rh 1a 90 (6,)\n",
        "rh 1a 95 (6,)\n",
        "rh 1a 98 (6,)\n",
        "rh 1b 70 (6,)\n",
        "rh 1b 75 (6,)\n",
        "rh 1b 80 (6,)\n",
        "rh 1b 85 (6,)\n",
        "rh 1b 90 (6,)\n",
        "rh 1b 95 (6,)\n",
        "rh 1b 98 (6,)\n",
        "rh 2a 70 (6,)\n",
        "rh 2a 75 (6,)\n",
        "rh 2a 80 "
       ]
      },
      {
       "output_type": "stream",
       "stream": "stdout",
       "text": [
        "(6,)\n",
        "rh 2a 85 (6,)\n",
        "rh 2a 90 (6,)\n",
        "rh 2a 95 (6,)\n",
        "rh 2a 98 (6,)\n",
        "rh 2b 70 (6,)\n",
        "rh 2b 75 (6,)\n",
        "rh 2b 80 (6,)\n",
        "rh 2b 85 (6,)\n",
        "rh 2b 90 (6,)\n",
        "rh 2b 95 (6,)\n",
        "rh 2b 98 (6,)\n"
       ]
      }
     ],
     "prompt_number": 8
    },
    {
     "cell_type": "heading",
     "level": 3,
     "metadata": {},
     "source": [
      "missing eucl meanDist maps"
     ]
    },
    {
     "cell_type": "code",
     "collapsed": false,
     "input": [
      "for hemi in ['lh', 'rh']:\n",
      "    for scan in ['1a', '1b', '2a', '2b']:\n",
      "        for thr in [70, 75, 80, 85, 90, 95, 98]:  \n",
      "            print hemi, scan, thr, df['subject'][(df['lsd_corr_%s_%s' % (scan, hemi)]==1)\n",
      "                                                 & (df['eucl_distance_%s' % hemi]==1)\n",
      "                                                 & (df['lsd_meanDist_eucl_%s_%s_%s' % (scan,thr,hemi)]==0)].shape"
     ],
     "language": "python",
     "metadata": {},
     "outputs": [
      {
       "output_type": "stream",
       "stream": "stdout",
       "text": [
        "lh 1a 70 (88,)\n",
        "lh 1a 75 (88,)\n",
        "lh 1a 80 (88,)\n",
        "lh 1a 85 (88,)\n",
        "lh 1a 90 (88,)\n",
        "lh 1a 95 (88,)\n",
        "lh 1a 98 (88,)\n",
        "lh 1b 70 (87,)\n",
        "lh 1b 75 (87,)\n",
        "lh 1b 80 (87,)\n",
        "lh 1b 85 (87,)\n",
        "lh 1b 90 (87,)\n",
        "lh 1b 95 (87,)\n",
        "lh 1b 98 (87,)\n",
        "lh 2a 70 (85,)\n",
        "lh 2a 75 (85,)\n",
        "lh 2a 80 (85,)\n",
        "lh 2a 85 (85,)\n",
        "lh 2a 90 (85,)\n",
        "lh 2a 95 (85,)\n",
        "lh 2a 98 (85,)\n",
        "lh 2b 70 (84,)\n",
        "lh 2b 75 (84,)\n",
        "lh 2b 80 (84,)\n",
        "lh 2b 85 (84,)\n",
        "lh 2b 90 (84,)\n",
        "lh 2b 95 (84,)\n",
        "lh 2b 98 (84,)\n",
        "rh 1a 70 (90,)\n",
        "rh 1a 75 (90,)\n",
        "rh 1a 80 (90,)\n",
        "rh 1a 85 (90,)\n",
        "rh 1a 90 (90,)\n",
        "rh 1a 95 (90,)\n",
        "rh 1a 98 (90,)\n",
        "rh 1b 70 (91,)\n",
        "rh 1b 75 (91,)\n",
        "rh 1b 80 (91,)\n",
        "rh 1b 85 (91,)\n",
        "rh 1b 90 (91,)\n",
        "rh 1b 95 (91,)\n",
        "rh 1b 98 (91,)\n",
        "rh 2a 70 (89,)\n",
        "rh 2a 75 "
       ]
      },
      {
       "output_type": "stream",
       "stream": "stdout",
       "text": [
        "(89,)\n",
        "rh 2a 80 (89,)\n",
        "rh 2a 85 (89,)\n",
        "rh 2a 90 (89,)\n",
        "rh 2a 95 (89,)\n",
        "rh 2a 98 (89,)\n",
        "rh 2b 70 (89,)\n",
        "rh 2b 75 (89,)\n",
        "rh 2b 80 (89,)\n",
        "rh 2b 85 (89,)\n",
        "rh 2b 90 (89,)\n",
        "rh 2b 95 (89,)\n",
        "rh 2b 98 (89,)\n"
       ]
      }
     ],
     "prompt_number": 9
    },
    {
     "cell_type": "heading",
     "level": 3,
     "metadata": {},
     "source": [
      "meanDist from lsd 30 min"
     ]
    },
    {
     "cell_type": "code",
     "collapsed": false,
     "input": [
      "# 1a & 1b\n",
      "# geo\n",
      "for hemi in ['lh', 'rh']:\n",
      "    for thr in [70, 75, 80, 85, 90, 95, 98]:  \n",
      "        print hemi, thr, df['subject'][(df['lsd_corr_1a_%s' % hemi]==1)\n",
      "                                             & (df['lsd_corr_1b_%s' % hemi]==1)\n",
      "                                             & (df['geo_distance_%s' % hemi]==1)\n",
      "                                             & (df['lsd_meanDist_geo_1ab_%s_%s' % (thr,hemi)]==0)].tolist()\n",
      "        \n",
      "# ignore '23700', '25019', '25188', '26500' because one or more scans are missing"
     ],
     "language": "python",
     "metadata": {},
     "outputs": [
      {
       "output_type": "stream",
       "stream": "stdout",
       "text": [
        "lh 70 ['23700', '25019', '25188', '26500', '28194']\n",
        "lh 75 ['23700', '25019', '25188', '26500', '28194']\n",
        "lh 80 ['23700', '25019', '25188', '26500', '28194']\n",
        "lh 85 ['23700', '25019', '25188', '26500', '28194']\n",
        "lh 90 ['23700', '25019', '25188', '26500', '28194']\n",
        "lh 95 ['23700', '25019', '25188', '26500', '28194']\n",
        "lh 98 ['23700', '25019', '25188', '26500', '28194']\n",
        "rh 70 ['23700', '24877', '25004', '25019', '25165', '25188', '26500', '26854', '27830', '28089', '28194']\n",
        "rh 75 ['23700', '24877', '25004', '25019', '25165', '25188', '26500', '26854', '27830', '28089', '28194']\n",
        "rh 80 ['23700', '24877', '25004', '25019', '25165', '25188', '26500', '26854', '27830', '28089', '28194']\n",
        "rh 85 ['23700', '24877', '25004', '25019', '25165', '25188', '26500', '26854', '27830', '28089', '28194']\n",
        "rh 90 ['23700', '24877', '25004', '25019', '25165', '25188', '26500', '26854', '27830', '28089', '28194']\n",
        "rh 95 ['23700', '24877', '25004', '25019', '25165', '25188', '26500', '26854', '27830', '28089', '28194']\n",
        "rh 98 ['23700', '24877', '25004', '25019', '25165', '25188', '26500', '26854', '27830', '28089', '28194']\n"
       ]
      }
     ],
     "prompt_number": 10
    },
    {
     "cell_type": "code",
     "collapsed": false,
     "input": [
      "# 1a & ab\n",
      "# eucl\n",
      "for hemi in ['lh', 'rh']:\n",
      "    for thr in [70, 75, 80, 85, 90, 95, 98]:  \n",
      "        print hemi, thr, df['subject'][(df['lsd_corr_1a_%s' % hemi]==1)\n",
      "                                             & (df['lsd_corr_1b_%s' % hemi]==1)\n",
      "                                             & (df['eucl_distance_%s' % hemi]==1)\n",
      "                                             & (df['lsd_meanDist_eucl_1ab_%s_%s' % (thr,hemi)]==0)].shape\n",
      "        \n",
      "# ignore '23700', '25019', '25188', '26500' because one or more scans are missing"
     ],
     "language": "python",
     "metadata": {},
     "outputs": [
      {
       "output_type": "stream",
       "stream": "stdout",
       "text": [
        "lh 70 (90,)\n",
        "lh 75 (90,)\n",
        "lh 80 (90,)\n",
        "lh 85 (90,)\n",
        "lh 90 (90,)\n",
        "lh 95 (90,)\n",
        "lh 98 (90,)\n",
        "rh 70 (95,)\n",
        "rh 75 (95,)\n",
        "rh 80 (95,)\n",
        "rh 85 (95,)\n",
        "rh 90 (95,)\n",
        "rh 95 (95,)\n",
        "rh 98 (95,)\n"
       ]
      }
     ],
     "prompt_number": 22
    },
    {
     "cell_type": "code",
     "collapsed": false,
     "input": [
      "# 2a & 2b\n",
      "# geo\n",
      "for hemi in ['lh', 'rh']:\n",
      "    for thr in [70, 75, 80, 85, 90, 95, 98]:  \n",
      "        print hemi, thr, df['subject'][(df['lsd_corr_2a_%s' % hemi]==1)\n",
      "                                             & (df['lsd_corr_2b_%s' % hemi]==1)\n",
      "                                             & (df['geo_distance_%s' % hemi]==1)\n",
      "                                             & (df['lsd_meanDist_geo_2ab_%s_%s' % (thr,hemi)]==0)].tolist()"
     ],
     "language": "python",
     "metadata": {},
     "outputs": [
      {
       "output_type": "stream",
       "stream": "stdout",
       "text": [
        "lh 70 []\n",
        "lh 75 []\n",
        "lh 80 []\n",
        "lh 85 []\n",
        "lh 90 []\n",
        "lh 95 []\n",
        "lh 98 []\n",
        "rh 70 ['24877', '25004', '25165', '26854', '27830', '28089']\n",
        "rh 75 ['24877', '25004', '25165', '26854', '27830', '28089']\n",
        "rh 80 ['24877', '25004', '25165', '26854', '27830', '28089']\n",
        "rh 85 ['24877', '25004', '25165', '26854', '27830', '28089']\n",
        "rh 90 ['24877', '25004', '25165', '26854', '27830', '28089']\n",
        "rh 95 ['24877', '25004', '25165', '26854', '27830', '28089']\n",
        "rh 98 ['24877', '25004', '25165', '26854', '27830', '28089']\n"
       ]
      }
     ],
     "prompt_number": 12
    },
    {
     "cell_type": "code",
     "collapsed": false,
     "input": [
      "# 2a & 2b\n",
      "# eucl\n",
      "for hemi in ['lh', 'rh']:\n",
      "    for thr in [70, 75, 80, 85, 90, 95, 98]:  \n",
      "        print hemi, thr, df['subject'][(df['lsd_corr_2a_%s' % hemi]==1)\n",
      "                                             & (df['lsd_corr_2b_%s' % hemi]==1)\n",
      "                                             & (df['eucl_distance_%s' % hemi]==1)\n",
      "                                             & (df['lsd_meanDist_eucl_2ab_%s_%s' % (thr,hemi)]==0)].shape"
     ],
     "language": "python",
     "metadata": {},
     "outputs": [
      {
       "output_type": "stream",
       "stream": "stdout",
       "text": [
        "lh 70 (84,)\n",
        "lh 75 (84,)\n",
        "lh 80 (84,)\n",
        "lh 85 (84,)\n",
        "lh 90 (84,)\n",
        "lh 95 (84,)\n",
        "lh 98 (84,)\n",
        "rh 70 (88,)\n",
        "rh 75 (88,)\n",
        "rh 80 (88,)\n",
        "rh 85 (88,)\n",
        "rh 90 (88,)\n",
        "rh 95 (88,)\n",
        "rh 98 (88,)\n"
       ]
      }
     ],
     "prompt_number": 13
    },
    {
     "cell_type": "heading",
     "level": 3,
     "metadata": {},
     "source": [
      "60 min lsd meanDist maps"
     ]
    },
    {
     "cell_type": "code",
     "collapsed": false,
     "input": [
      "# geo\n",
      "for hemi in ['lh', 'rh']:\n",
      "    for thr in [70, 75, 80, 85, 90, 95, 98]:  \n",
      "        print hemi, scan, thr, df['subject'][(df['lsd_corr_1a_%s' % hemi]==1)\n",
      "                                             & (df['lsd_corr_1b_%s' % hemi]==1)\n",
      "                                             & (df['lsd_corr_2a_%s' % hemi]==1)\n",
      "                                             &(df['lsd_corr_2b_%s' % hemi]==1)\n",
      "                                             & (df['geo_distance_%s' % hemi]==1)\n",
      "                                             & (df['lsd_meanDist_geo_1ab2ab_%s_%s' % (thr,hemi)]==0)].tolist()"
     ],
     "language": "python",
     "metadata": {},
     "outputs": [
      {
       "output_type": "stream",
       "stream": "stdout",
       "text": [
        "lh 2b 70 []\n",
        "lh 2b 75 []\n",
        "lh 2b 80 []\n",
        "lh 2b 85 []\n",
        "lh 2b 90 []\n",
        "lh 2b 95 []\n",
        "lh 2b 98 []\n",
        "rh 2b 70 ['24877', '25004', '25165', '26854', '27830', '28089']\n",
        "rh 2b 75 ['24877', '25004', '25165', '26854', '27830', '28089']\n",
        "rh 2b 80 ['24877', '25004', '25165', '26854', '27830', '28089']\n",
        "rh 2b 85 ['24877', '25004', '25165', '26854', '27830', '28089']\n",
        "rh 2b 90 ['24877', '25004', '25165', '26854', '27830', '28089']\n",
        "rh 2b 95 ['24877', '25004', '25165', '26854', '27830', '28089']\n",
        "rh 2b 98 ['24877', '25004', '25165', '26854', '27830', '28089']\n"
       ]
      }
     ],
     "prompt_number": 14
    },
    {
     "cell_type": "code",
     "collapsed": false,
     "input": [
      "# eucl\n",
      "for hemi in ['lh', 'rh']:\n",
      "    for thr in [70, 75, 80, 85, 90, 95, 98]:  \n",
      "        print hemi, scan, thr, df['subject'][(df['lsd_corr_1a_%s' % hemi]==1)\n",
      "                                             & (df['lsd_corr_1b_%s' % hemi]==1)\n",
      "                                             & (df['lsd_corr_2a_%s' % hemi]==1)\n",
      "                                             &(df['lsd_corr_2b_%s' % hemi]==1)\n",
      "                                             & (df['eucl_distance_%s' % hemi]==1)\n",
      "                                             & (df['lsd_meanDist_eucl_1ab2ab_%s_%s' % (thr,hemi)]==0)].shape"
     ],
     "language": "python",
     "metadata": {},
     "outputs": [
      {
       "output_type": "stream",
       "stream": "stdout",
       "text": [
        "lh 2b 70 (85,)\n",
        "lh 2b 75 (85,)\n",
        "lh 2b 80 (85,)\n",
        "lh 2b 85 (85,)\n",
        "lh 2b 90 (85,)\n",
        "lh 2b 95 (85,)\n",
        "lh 2b 98 (85,)\n",
        "rh 2b 70 (90,)\n",
        "rh 2b 75 (90,)\n",
        "rh 2b 80 (90,)\n",
        "rh 2b 85 (90,)\n",
        "rh 2b 90 (90,)\n",
        "rh 2b 95 (90,)\n",
        "rh 2b 98 (90,)\n"
       ]
      }
     ],
     "prompt_number": 15
    },
    {
     "cell_type": "heading",
     "level": 2,
     "metadata": {},
     "source": [
      "LEMON"
     ]
    },
    {
     "cell_type": "heading",
     "level": 3,
     "metadata": {},
     "source": [
      "subjects missing resting scans in surface space"
     ]
    },
    {
     "cell_type": "code",
     "collapsed": false,
     "input": [
      "for hemi in ['lh', 'rh']:\n",
      "    print hemi, scan, df['subject'][(df['lemon_rest_native']==1) \n",
      "                                    & (df['fs_files_%s' %hemi]==1) \n",
      "                                    & (df['lemon_surf_raw_%s' % hemi]==0)].shape"
     ],
     "language": "python",
     "metadata": {},
     "outputs": [
      {
       "output_type": "stream",
       "stream": "stdout",
       "text": [
        "lh 2b (0,)\n",
        "rh 2b (0,)\n"
       ]
      }
     ],
     "prompt_number": 16
    },
    {
     "cell_type": "heading",
     "level": 3,
     "metadata": {},
     "source": [
      "subjects missing (interpolated) resting scans in surface space"
     ]
    },
    {
     "cell_type": "code",
     "collapsed": false,
     "input": [
      "for hemi in ['lh', 'rh']:\n",
      "    print hemi, df['subject'][(df['lemon_surf_raw_%s' % (hemi)]==1)\n",
      "                                    & (df['fs_files_%s' %hemi]==1)\n",
      "                                    & (df['lemon_surf_interp_%s' % (hemi)]==0)].tolist()"
     ],
     "language": "python",
     "metadata": {},
     "outputs": [
      {
       "output_type": "stream",
       "stream": "stdout",
       "text": [
        "lh []\n",
        "rh []\n"
       ]
      }
     ],
     "prompt_number": 17
    },
    {
     "cell_type": "heading",
     "level": 3,
     "metadata": {},
     "source": [
      "subjects missing correlation matrices"
     ]
    },
    {
     "cell_type": "code",
     "collapsed": false,
     "input": [
      "for hemi in ['lh', 'rh']:\n",
      "    print hemi, scan, df['subject'][(df['lemon_surf_interp_%s' % (hemi)]==1) \n",
      "                                    & (df['lemon_corr_%s' % (hemi)]==0)].tolist()"
     ],
     "language": "python",
     "metadata": {},
     "outputs": [
      {
       "output_type": "stream",
       "stream": "stdout",
       "text": [
        "lh 2b []\n",
        "rh 2b []\n"
       ]
      }
     ],
     "prompt_number": 18
    },
    {
     "cell_type": "heading",
     "level": 3,
     "metadata": {},
     "source": [
      "missing geo meanDist maps"
     ]
    },
    {
     "cell_type": "code",
     "collapsed": false,
     "input": [
      "for hemi in ['lh', 'rh']:\n",
      "    for thr in [70, 75, 80, 85, 90, 95, 98]:  \n",
      "        print hemi, thr, df['subject'][(df['lemon_corr_%s' % (hemi)]==1)\n",
      "                                             & (df['geo_distance_%s' % hemi]==1)\n",
      "                                             & (df['lemon_meanDist_geo_%s_%s' % (thr,hemi)]==0)].shape"
     ],
     "language": "python",
     "metadata": {},
     "outputs": [
      {
       "output_type": "stream",
       "stream": "stdout",
       "text": [
        "lh 70 (0,)\n",
        "lh 75 (0,)\n",
        "lh 80 (0,)\n",
        "lh 85 (0,)\n",
        "lh 90 (0,)\n",
        "lh 95 (0,)\n",
        "lh 98 (0,)\n",
        "rh 70 (11,)\n",
        "rh 75 (11,)\n",
        "rh 80 (11,)\n",
        "rh 85 (11,)\n",
        "rh 90 (11,)\n",
        "rh 95 (11,)\n",
        "rh 98 (11,)\n"
       ]
      }
     ],
     "prompt_number": 19
    },
    {
     "cell_type": "heading",
     "level": 3,
     "metadata": {},
     "source": [
      "missing eucl meanDist maps"
     ]
    },
    {
     "cell_type": "code",
     "collapsed": false,
     "input": [
      "# won't calculate eucl meanDist for LEMON for the time being\n",
      "for hemi in ['lh', 'rh']:\n",
      "    for thr in [70, 75, 80, 85, 90, 95, 98]:  \n",
      "        print hemi, scan, thr, df['subject'][(df['lemon_corr_%s' % (hemi)]==1)\n",
      "                                             & (df['eucl_distance_%s' % hemi]==1)\n",
      "                                             & (df['lemon_meanDist_eucl_%s_%s' % (thr,hemi)]==0)].shape"
     ],
     "language": "python",
     "metadata": {},
     "outputs": [
      {
       "output_type": "stream",
       "stream": "stdout",
       "text": [
        "lh 2b 70 (188,)\n",
        "lh 2b 75 (188,)\n",
        "lh 2b 80 (188,)\n",
        "lh 2b 85 (188,)\n",
        "lh 2b 90 (188,)\n",
        "lh 2b 95 (188,)\n",
        "lh 2b 98 (188,)\n",
        "rh 2b 70 (188,)\n",
        "rh 2b 75 (188,)\n",
        "rh 2b 80 (188,)\n",
        "rh 2b 85 (188,)\n",
        "rh 2b 90 (188,)\n",
        "rh 2b 95 (188,)\n",
        "rh 2b 98 (188,)\n"
       ]
      }
     ],
     "prompt_number": 20
    },
    {
     "cell_type": "code",
     "collapsed": false,
     "input": [],
     "language": "python",
     "metadata": {},
     "outputs": [],
     "prompt_number": 19
    }
   ],
   "metadata": {}
  }
 ]
}