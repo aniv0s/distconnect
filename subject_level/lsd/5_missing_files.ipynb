{
 "metadata": {
  "name": ""
 },
 "nbformat": 3,
 "nbformat_minor": 0,
 "worksheets": [
  {
   "cells": [
    {
     "cell_type": "heading",
     "level": 2,
     "metadata": {},
     "source": [
      "missing files"
     ]
    },
    {
     "cell_type": "code",
     "collapsed": false,
     "input": [
      "import pandas as pd\n",
      "import os, glob, json, time, datetime\n",
      "\n",
      "# directories\n",
      "docDir = '/afs/cbs.mpg.de/projects/mar005_lsd-lemon-surf/documents'\n",
      "topoDir = '/scr/liberia1/workspace/topography/utils/dist_matrix'\n",
      "fs_mark = '/scr/ilz2/LEMON_LSD/freesurfer_mark/*'\n",
      "\n",
      "# input files\n",
      "df_f = max(glob.iglob('%s/data_overview_20*.pkl' % docDir), key=os.path.getctime)\n",
      "df = pd.read_pickle(df_f)\n",
      "\n",
      "# output files\n",
      "date = datetime.datetime.now().strftime(\"%Y%m%d\")\n",
      "subjects_runDist_lh = '%s/subjects_runDist_lh_%s.txt' % (topoDir, date)\n",
      "subjects_runDist_rh = '%s/subjects_runDist_rh_%s.txt' % (topoDir, date)"
     ],
     "language": "python",
     "metadata": {},
     "outputs": [],
     "prompt_number": 1
    },
    {
     "cell_type": "heading",
     "level": 3,
     "metadata": {},
     "source": [
      "subject list for running new distance matrices"
     ]
    },
    {
     "cell_type": "code",
     "collapsed": false,
     "input": [
      "subjects_mark = [os.path.basename(x) for x in glob.glob(fs_mark)]\n",
      "subjects_dist_missing_lh = df[(df['distance_lh'] == 0) & (df['fs_files_lh'] == 0)].subject.tolist()\n",
      "subjects_dist_missing_rh = df[(df['distance_rh'] == 0) & (df['fs_files_rh'] == 0)].subject.tolist()\n",
      "print 'lh:', list(set(subjects_mark).intersection(subjects_dist_missing_lh))\n",
      "print 'rh:', list(set(subjects_mark).intersection(subjects_dist_missing_rh))"
     ],
     "language": "python",
     "metadata": {},
     "outputs": [
      {
       "output_type": "stream",
       "stream": "stdout",
       "text": [
        "lh: ['24051', '24131']\n",
        "rh: ['24051', '24131']\n"
       ]
      }
     ],
     "prompt_number": 2
    },
    {
     "cell_type": "markdown",
     "metadata": {},
     "source": [
      "save lists to disc"
     ]
    },
    {
     "cell_type": "code",
     "collapsed": false,
     "input": [
      "#pd.Series(list(set(subjects_mark).intersection(subjects_dist_missing_lh))).to_csv(subjects_runDist_lh)\n",
      "#pd.Series(list(set(subjects_mark).intersection(subjects_dist_missing_rh))).to_csv(subjects_runDist_rh)"
     ],
     "language": "python",
     "metadata": {},
     "outputs": [],
     "prompt_number": 25
    },
    {
     "cell_type": "heading",
     "level": 3,
     "metadata": {},
     "source": [
      "subjects missing resting scans in surface space"
     ]
    },
    {
     "cell_type": "code",
     "collapsed": false,
     "input": [
      "for hemi in ['lh', 'rh']:\n",
      "    for scan in ['1a', '1b', '2a', '2b']:\n",
      "        print hemi, scan, df['subject'][(df['rest%s_native' %scan]==1) \n",
      "                                        & (df['surf_raw_%s_%s' % (scan,hemi)]==0)].tolist()"
     ],
     "language": "python",
     "metadata": {},
     "outputs": [
      {
       "output_type": "stream",
       "stream": "stdout",
       "text": [
        "lh 1a []\n",
        "lh 1b []\n",
        "lh 2a []\n",
        "lh 2b []\n",
        "rh 1a []\n",
        "rh 1b []\n",
        "rh 2a []\n",
        "rh 2b []\n"
       ]
      }
     ],
     "prompt_number": 3
    },
    {
     "cell_type": "heading",
     "level": 3,
     "metadata": {},
     "source": [
      "subjects missing (interpolated) resting scans in surface space"
     ]
    },
    {
     "cell_type": "code",
     "collapsed": false,
     "input": [
      "for hemi in ['lh', 'rh']:\n",
      "    for scan in ['1a', '1b', '2a', '2b']:\n",
      "        print hemi, scan, df['subject'][(df['surf_raw_%s_%s' % (scan,hemi)]==1) \n",
      "                                        & (df['surf_interp_%s_%s' % (scan,hemi)]==0)].tolist()"
     ],
     "language": "python",
     "metadata": {},
     "outputs": [
      {
       "output_type": "stream",
       "stream": "stdout",
       "text": [
        "lh 1a []\n",
        "lh 1b []\n",
        "lh 2a []\n",
        "lh 2b []\n",
        "rh 1a []\n",
        "rh 1b []\n",
        "rh 2a []\n",
        "rh 2b []\n"
       ]
      }
     ],
     "prompt_number": 4
    },
    {
     "cell_type": "heading",
     "level": 3,
     "metadata": {},
     "source": [
      "subjects missing correlation matrices"
     ]
    },
    {
     "cell_type": "code",
     "collapsed": false,
     "input": [
      "for hemi in ['lh', 'rh']:\n",
      "    for scan in ['1a', '1b', '2a', '2b']:\n",
      "        print hemi, scan, df['subject'][(df['surf_interp_%s_%s' % (scan,hemi)]==1) \n",
      "                                        & (df['corr_%s_%s' % (scan,hemi)]==0)].tolist()"
     ],
     "language": "python",
     "metadata": {},
     "outputs": [
      {
       "output_type": "stream",
       "stream": "stdout",
       "text": [
        "lh 1a []\n",
        "lh 1b []\n",
        "lh 2a []\n",
        "lh 2b []\n",
        "rh 1a []\n",
        "rh 1b []\n",
        "rh 2a []\n",
        "rh 2b []\n"
       ]
      }
     ],
     "prompt_number": 5
    },
    {
     "cell_type": "heading",
     "level": 3,
     "metadata": {},
     "source": [
      "subjects missing distance matrices"
     ]
    },
    {
     "cell_type": "code",
     "collapsed": false,
     "input": [
      "for hemi in ['lh', 'rh']:\n",
      "    print hemi, scan, df['subject'][(df['fs_files_%s' %hemi]==1) \n",
      "                                    & (df['distance_%s' % hemi]==0)].tolist()"
     ],
     "language": "python",
     "metadata": {},
     "outputs": [
      {
       "output_type": "stream",
       "stream": "stdout",
       "text": [
        "lh 2b ['23668', '23850', '24757', '24773', '24843', '24877', '24899', '25165', '26120', '26350', '26435', '26471', '26854', '26902']\n",
        "rh 2b ['13753', '23741', '24945', '25201', '26266', '26284', '26407', '26496', '26498', '26635', '26844', '26855']\n"
       ]
      }
     ],
     "prompt_number": 6
    },
    {
     "cell_type": "heading",
     "level": 3,
     "metadata": {},
     "source": [
      "subjects missing meanDist maps"
     ]
    },
    {
     "cell_type": "code",
     "collapsed": false,
     "input": [
      "for hemi in ['lh', 'rh']:\n",
      "    for scan in ['1a', '1b', '2a', '2b']:\n",
      "        for thr in [70, 75, 80, 85, 90, 95, 98]:  \n",
      "            print hemi, scan, thr, df['subject'][(df['corr_%s_%s' % (scan, hemi)]==1)\n",
      "                                                 & (df['distance_%s' % hemi]==1)\n",
      "                                                 & (df['meanDist_%s_%s_%s' % (scan,thr,hemi)]==0)].tolist()"
     ],
     "language": "python",
     "metadata": {},
     "outputs": [
      {
       "output_type": "stream",
       "stream": "stdout",
       "text": [
        "lh 1a 70 []\n",
        "lh 1a 75 []\n",
        "lh 1a 80 []\n",
        "lh 1a 85 []\n",
        "lh 1a 90 []\n",
        "lh 1a 95 []\n",
        "lh 1a 98 []\n",
        "lh 1b 70 []\n",
        "lh 1b 75 []\n",
        "lh 1b 80 []\n",
        "lh 1b 85 []\n",
        "lh 1b 90 []\n",
        "lh 1b 95 []\n",
        "lh 1b 98 []\n",
        "lh 2a 70 []\n",
        "lh 2a 75 []\n",
        "lh 2a 80 []\n",
        "lh 2a 85 []\n",
        "lh 2a 90 []\n",
        "lh 2a 95 []\n",
        "lh 2a 98 []\n",
        "lh 2b 70 []\n",
        "lh 2b 75 []\n",
        "lh 2b 80 []\n",
        "lh 2b 85 []\n",
        "lh 2b 90 []\n",
        "lh 2b 95 []\n",
        "lh 2b 98 []\n",
        "rh 1a 70 []\n",
        "rh 1a 75 []\n",
        "rh 1a 80 []\n",
        "rh 1a 85 []\n",
        "rh 1a 90 []\n",
        "rh 1a 95 []\n",
        "rh 1a 98 []\n",
        "rh 1b 70 []\n",
        "rh 1b 75 []\n",
        "rh 1b 80 []\n",
        "rh 1b 85 []\n",
        "rh 1b 90 []\n",
        "rh 1b 95 []\n",
        "rh 1b 98 []\n",
        "rh 2a 70 []\n",
        "rh 2a 75 []\n",
        "rh 2a 80 []\n",
        "rh 2a 85 []\n",
        "rh 2a 90 []\n",
        "rh 2a 95 "
       ]
      },
      {
       "output_type": "stream",
       "stream": "stdout",
       "text": [
        "[]\n",
        "rh 2a 98 []\n",
        "rh 2b 70 []\n",
        "rh 2b 75 []\n",
        "rh 2b 80 []\n",
        "rh 2b 85 []\n",
        "rh 2b 90 []\n",
        "rh 2b 95 []\n",
        "rh 2b 98 []\n"
       ]
      }
     ],
     "prompt_number": 11
    },
    {
     "cell_type": "code",
     "collapsed": false,
     "input": [
      "for hemi in ['lh', 'rh']:\n",
      "    for thr in [70, 75, 80, 85, 90, 95, 98]:  \n",
      "        print hemi, thr, df['subject'][(df['corr_1a_%s' % hemi]==1)\n",
      "                                             & (df['corr_1b_%s' % hemi]==1)\n",
      "                                             & (df['distance_%s' % hemi]==1)\n",
      "                                             & (df['meanDist_1ab_%s_%s' % (thr,hemi)]==0)].tolist()\n",
      "        \n",
      "# ignore '23700', '25019', '25188', '26500', combined meanDist not run, because one or more scans are missing"
     ],
     "language": "python",
     "metadata": {},
     "outputs": [
      {
       "output_type": "stream",
       "stream": "stdout",
       "text": [
        "lh 70 ['23700', '25019', '25188', '26500']\n",
        "lh 75 ['23700', '25019', '25188', '26500']\n",
        "lh 80 ['23700', '25019', '25188', '26500']\n",
        "lh 85 ['23700', '25019', '25188', '26500']\n",
        "lh 90 ['23700', '25019', '25188', '26500']\n",
        "lh 95 ['23700', '25019', '25188', '26500']\n",
        "lh 98 ['23700', '25019', '25188', '26500']\n",
        "rh 70 ['23700', '25019', '25188', '26500']\n",
        "rh 75 ['23700', '25019', '25188', '26500']\n",
        "rh 80 ['23700', '25019', '25188', '26500']\n",
        "rh 85 ['23700', '25019', '25188', '26500']\n",
        "rh 90 ['23700', '25019', '25188', '26500']\n",
        "rh 95 ['23700', '25019', '25188', '26500']\n",
        "rh 98 ['23700', '25019', '25188', '26500']\n"
       ]
      }
     ],
     "prompt_number": 12
    },
    {
     "cell_type": "code",
     "collapsed": false,
     "input": [
      "for hemi in ['lh', 'rh']:\n",
      "    for thr in [70, 75, 80, 85, 90, 95, 98]:  \n",
      "        print hemi, thr, df['subject'][(df['corr_2a_%s' % hemi]==1)\n",
      "                                             & (df['corr_2b_%s' % hemi]==1)\n",
      "                                             & (df['distance_%s' % hemi]==1)\n",
      "                                             & (df['meanDist_2ab_%s_%s' % (thr,hemi)]==0)].tolist()"
     ],
     "language": "python",
     "metadata": {},
     "outputs": [
      {
       "output_type": "stream",
       "stream": "stdout",
       "text": [
        "lh 70 []\n",
        "lh 75 []\n",
        "lh 80 []\n",
        "lh 85 []\n",
        "lh 90 []\n",
        "lh 95 []\n",
        "lh 98 []\n",
        "rh 70 []\n",
        "rh 75 []\n",
        "rh 80 []\n",
        "rh 85 []\n",
        "rh 90 []\n",
        "rh 95 []\n",
        "rh 98 []\n"
       ]
      }
     ],
     "prompt_number": 13
    },
    {
     "cell_type": "code",
     "collapsed": false,
     "input": [
      "for hemi in ['lh', 'rh']:\n",
      "    for thr in [70, 75, 80, 85, 90, 95, 98]:  \n",
      "        print hemi, scan, thr, df['subject'][(df['corr_1a_%s' % hemi]==1)\n",
      "                                             & (df['corr_1b_%s' % hemi]==1)\n",
      "                                             & (df['corr_2a_%s' % hemi]==1)\n",
      "                                             &(df['corr_2b_%s' % hemi]==1)\n",
      "                                             & (df['distance_%s' % hemi]==1)\n",
      "                                             & (df['meanDist_1ab2ab_%s_%s' % (thr,hemi)]==0)].tolist()"
     ],
     "language": "python",
     "metadata": {},
     "outputs": [
      {
       "output_type": "stream",
       "stream": "stdout",
       "text": [
        "lh 2b 70 []\n",
        "lh 2b 75 []\n",
        "lh 2b 80 []\n",
        "lh 2b 85 []\n",
        "lh 2b 90 []\n",
        "lh 2b 95 []\n",
        "lh 2b 98 []\n",
        "rh 2b 70 []\n",
        "rh 2b 75 []\n",
        "rh 2b 80 []\n",
        "rh 2b 85 []\n",
        "rh 2b 90 []\n",
        "rh 2b 95 []\n",
        "rh 2b 98 []\n"
       ]
      }
     ],
     "prompt_number": 14
    }
   ],
   "metadata": {}
  }
 ]
}