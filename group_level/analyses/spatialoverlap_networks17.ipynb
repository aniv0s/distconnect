{
 "metadata": {
  "name": ""
 },
 "nbformat": 3,
 "nbformat_minor": 0,
 "worksheets": [
  {
   "cells": [
    {
     "cell_type": "code",
     "collapsed": false,
     "input": [
      "import pandas as pd\n",
      "import seaborn as sns\n",
      "import matplotlib.pyplot as plt\n",
      "import glob, os, time, datetime\n",
      "sns.set(style='ticks')\n",
      "from surfer import Brain, io\n",
      "from IPython.core.display import Image, display\n",
      "from scipy import stats\n",
      "import nibabel as nib\n",
      "from nipype.algorithms.icc import ICC_rep_anova\n",
      "\n",
      "fsDir = \"/afs/cbs.mpg.de/projects/mar004_lsd-lemon-preproc/freesurfer\"\n",
      "annotDir = '/scr/liberia1/data/Yeo_JNeurophysiol11_FreeSurfer'\n",
      "dataDir = '/afs/cbs.mpg.de/projects/mar005_lsd-lemon-surf/probands'\n",
      "docDir = '/afs/cbs.mpg.de/projects/mar005_lsd-lemon-surf/documents'\n",
      "thrs = [70, 75, 80, 85, 90, 95, 98]\n",
      "hemis = ['lh', 'rh']\n",
      "\n",
      "df = pd.read_pickle(max(glob.iglob('%s/data_grouplevel_20*.pkl' % docDir), key=os.path.getctime))\n",
      "\n",
      "    \n",
      "def viz_both(d_lh, min_lh, max_lh, d_rh, min_rh, max_rh, surf='pial', filename='temp.png'):\n",
      "    brain = Brain('fsaverage5', 'split', surf, curv=False, views=['lat', 'med'], config_opts={\"background\": \"white\"})\n",
      "    brain.add_data(d_lh, min_lh, max_lh, colormap=\"spectral\", alpha=0.6, hemi='lh')\n",
      "    brain.add_data(d_rh, min_rh, max_rh, colormap=\"spectral\", alpha=0.6, hemi='rh')\n",
      "    brain.save_image(filename)\n",
      "    display(Image(filename=filename, width=700))"
     ],
     "language": "python",
     "metadata": {},
     "outputs": []
    },
    {
     "cell_type": "markdown",
     "metadata": {},
     "source": [
      "change order of networks so that the means are increasing, then use that order for backprojecting to surface to show incraese from primary to association"
     ]
    },
    {
     "cell_type": "code",
     "collapsed": false,
     "input": [
      "netw17_order = ['17Networks_1', '17Networks_2', '17Networks_3', '17Networks_4', '17Networks_5', '17Networks_6', \n",
      "                '17Networks_7', '17Networks_8', '17Networks_9', '17Networks_10', '17Networks_11', '17Networks_12', \n",
      "                '17Networks_13', '17Networks_14', '17Networks_15', '17Networks_16', '17Networks_17', ]\n",
      "g = sns.FacetGrid(df[(df['normalized mean distance - group mean'] != 0) & (df['sample'] == 'all subjects')], \n",
      "                  col='threshold', size=7, aspect=.7)\n",
      "g.map(sns.violinplot, 'networks of Yeo 2011 (17 networks solution)', 'normalized mean distance - group mean', \n",
      "      'hemisphere', split=True,order=netw17_order).despine(left=True).set_xticklabels(rotation=70)"
     ],
     "language": "python",
     "metadata": {},
     "outputs": []
    },
    {
     "cell_type": "code",
     "collapsed": false,
     "input": [],
     "language": "python",
     "metadata": {},
     "outputs": []
    },
    {
     "cell_type": "code",
     "collapsed": false,
     "input": [],
     "language": "python",
     "metadata": {},
     "outputs": []
    },
    {
     "cell_type": "code",
     "collapsed": false,
     "input": [],
     "language": "python",
     "metadata": {},
     "outputs": []
    }
   ],
   "metadata": {}
  }
 ]
}