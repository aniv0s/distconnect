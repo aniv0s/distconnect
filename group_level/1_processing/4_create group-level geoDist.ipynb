{
 "cells": [
  {
   "cell_type": "markdown",
   "metadata": {},
   "source": [
    "### Because subject geodesic distance has been normalized to range between 0 and 1 to account for differences in brain size, group-level geodesic distance will be used later for renormalization of group-level data to mm scale (for ease of interpretation)"
   ]
  },
  {
   "cell_type": "code",
   "execution_count": 1,
   "metadata": {
    "collapsed": false
   },
   "outputs": [],
   "source": [
    "import pandas as pd\n",
    "import glob, os, datetime\n",
    "import h5py\n",
    "\n",
    "dataDir = '/afs/cbs.mpg.de/projects/mar005_lsd-lemon-surf/probands'\n",
    "docDir = '/afs/cbs.mpg.de/projects/mar005_lsd-lemon-surf/documents'"
   ]
  },
  {
   "cell_type": "code",
   "execution_count": 3,
   "metadata": {
    "collapsed": false
   },
   "outputs": [],
   "source": [
    "subjects = pd.read_csv(max(glob.iglob('%s/sample/distconnect_lsd_sample_20*.csv' % docDir), key=os.path.getctime), header=None)[0].tolist()"
   ]
  },
  {
   "cell_type": "code",
   "execution_count": null,
   "metadata": {
    "collapsed": false
   },
   "outputs": [],
   "source": [
    "hemi = 'lh'\n",
    "\n",
    "\n",
    "concat = np.zeros((10242, 10242))\n",
    "\n",
    "for n_sub, sub in enumerate(subjects):\n",
    "    \n",
    "    print '%s / %s' % (n_sub+1, len(subjects))\n",
    "    \n",
    "    with h5py.File('%s/%s/distance_maps/%s_%s_geoDist_fsa5.mat' % (dataDir, sub, sub, hemi), 'r') as f:\n",
    "        dist = f['dataAll'][()]\n",
    "\n",
    "    concat = concat + dist\n",
    "    del dist\n",
    "                                \n",
    "group_geoDist = concat / len(subjects)\n",
    "\n",
    "np.save('%s/data_grouplevel/lsd_geoDist_groupmean_%s' % (docDir, hemi), group_geoDist)"
   ]
  },
  {
   "cell_type": "code",
   "execution_count": 36,
   "metadata": {
    "collapsed": false
   },
   "outputs": [
    {
     "data": {
      "text/plain": [
       "185.67676753246758"
      ]
     },
     "execution_count": 36,
     "metadata": {},
     "output_type": "execute_result"
    }
   ],
   "source": [
    "group_geoDist.max() # lh = 261.4174285714285"
   ]
  },
  {
   "cell_type": "markdown",
   "metadata": {},
   "source": [
    "### group average of Euclidean distance matrix"
   ]
  },
  {
   "cell_type": "code",
   "execution_count": 4,
   "metadata": {
    "collapsed": false
   },
   "outputs": [
    {
     "name": "stdout",
     "output_type": "stream",
     "text": [
      "1 / 77\n",
      "2 / 77\n",
      "3 / 77\n",
      "4 / 77\n",
      "5 / 77\n",
      "6 / 77\n",
      "7 / 77\n",
      "8 / 77\n",
      "9 / 77\n",
      "10 / 77\n",
      "11 / 77\n",
      "12 / 77\n",
      "13 / 77\n",
      "14 / 77\n",
      "15 / 77\n",
      "16 / 77\n",
      "17 / 77\n",
      "18 / 77\n",
      "19 / 77\n",
      "20 / 77\n",
      "21 / 77\n",
      "22 / 77\n",
      "23 / 77\n",
      "24 / 77\n",
      "25 / 77\n",
      "26 / 77\n",
      "27 / 77\n",
      "28 / 77\n",
      "29 / 77\n",
      "30 / 77\n",
      "31 / 77\n",
      "32 / 77\n",
      "33 / 77\n",
      "34 / 77\n",
      "35 / 77\n",
      "36 / 77\n",
      "37 / 77\n",
      "38 / 77\n",
      "39 / 77\n",
      "40 / 77\n",
      "41 / 77\n",
      "42 / 77\n",
      "43 / 77\n",
      "44 / 77\n",
      "45 / 77\n",
      "46 / 77\n",
      "47 / 77\n",
      "48 / 77\n",
      "49 / 77\n",
      "50 / 77\n",
      "51 / 77\n",
      "52 / 77\n",
      "53 / 77\n",
      "54 / 77\n",
      "55 / 77\n",
      "56 / 77\n",
      "57 / 77\n",
      "58 / 77\n",
      "59 / 77\n",
      "60 / 77\n",
      "61 / 77\n",
      "62 / 77\n",
      "63 / 77\n",
      "64 / 77\n",
      "65 / 77\n",
      "66 / 77\n",
      "67 / 77\n",
      "68 / 77\n",
      "69 / 77\n",
      "70 / 77\n",
      "71 / 77\n",
      "72 / 77\n",
      "73 / 77\n",
      "74 / 77\n",
      "75 / 77\n",
      "76 / 77\n",
      "77 / 77\n"
     ]
    }
   ],
   "source": [
    "hemi = 'rh'\n",
    "\n",
    "\n",
    "concat = np.zeros((10242, 10242))\n",
    "\n",
    "for n_sub, sub in enumerate(subjects):\n",
    "    \n",
    "    print '%s / %s' % (n_sub+1, len(subjects))\n",
    "    \n",
    "    dist_file = '%s/%s/distance_maps/%s_%s_euclDist_fsa5.npy' % (dataDir, sub, sub, hemi)\n",
    "    dist = np.load(dist_file)\n",
    "\n",
    "    concat = concat + dist\n",
    "    del dist\n",
    "                                \n",
    "group_euclDist = concat / len(subjects)\n",
    "np.save('/scr/liberia1/data/distconnect/group_level/lsd_euclDist_groupmean_%s' % (hemi), group_euclDist)"
   ]
  },
  {
   "cell_type": "code",
   "execution_count": null,
   "metadata": {
    "collapsed": false
   },
   "outputs": [],
   "source": [
    "group_euclDist.max() # lh = 261.4174285714285"
   ]
  }
 ],
 "metadata": {
  "kernelspec": {
   "display_name": "Python 2",
   "language": "python",
   "name": "python2"
  },
  "language_info": {
   "codemirror_mode": {
    "name": "ipython",
    "version": 2
   },
   "file_extension": ".py",
   "mimetype": "text/x-python",
   "name": "python",
   "nbconvert_exporter": "python",
   "pygments_lexer": "ipython2",
   "version": "2.7.12"
  }
 },
 "nbformat": 4,
 "nbformat_minor": 0
}
