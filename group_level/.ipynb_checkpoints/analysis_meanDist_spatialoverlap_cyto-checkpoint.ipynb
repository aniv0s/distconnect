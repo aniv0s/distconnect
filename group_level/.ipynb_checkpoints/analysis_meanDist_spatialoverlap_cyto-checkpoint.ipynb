{
 "metadata": {
  "name": ""
 },
 "nbformat": 3,
 "nbformat_minor": 0,
 "worksheets": [
  {
   "cells": [
    {
     "cell_type": "code",
     "collapsed": false,
     "input": [
      "import pandas as pd\n",
      "import seaborn as sns\n",
      "import matplotlib.pyplot as plt\n",
      "import glob, os, time, datetime\n",
      "sns.set(style='ticks')\n",
      "from surfer import Brain, io\n",
      "from IPython.core.display import Image, display\n",
      "from scipy import stats\n",
      "import nibabel as nib\n",
      "from nipype.algorithms.icc import ICC_rep_anova\n",
      "\n",
      "fsDir = \"/afs/cbs.mpg.de/projects/mar004_lsd-lemon-preproc/freesurfer\"\n",
      "annotDir = '/scr/liberia1/data/Yeo_JNeurophysiol11_FreeSurfer'\n",
      "dataDir = '/afs/cbs.mpg.de/projects/mar005_lsd-lemon-surf/probands'\n",
      "docDir = '/afs/cbs.mpg.de/projects/mar005_lsd-lemon-surf/documents'\n",
      "thrs = [70, 75, 80, 85, 90, 95, 98]\n",
      "hemis = ['lh', 'rh']\n",
      "\n",
      "df = pd.read_pickle(max(glob.iglob('%s/data_grouplevel_20*.pkl' % docDir), key=os.path.getctime))\n",
      "\n",
      "    \n",
      "def viz_both(d_lh, min_lh, max_lh, d_rh, min_rh, max_rh, surf='pial', filename='temp.png'):\n",
      "    brain = Brain('fsaverage5', 'split', surf, curv=False, views=['lat', 'med'], config_opts={\"background\": \"white\"})\n",
      "    brain.add_data(d_lh, min_lh, max_lh, colormap=\"spectral\", alpha=0.6, hemi='lh')\n",
      "    brain.add_data(d_rh, min_rh, max_rh, colormap=\"spectral\", alpha=0.6, hemi='rh')\n",
      "    brain.save_image(filename)\n",
      "    display(Image(filename=filename, width=700))"
     ],
     "language": "python",
     "metadata": {},
     "outputs": []
    },
    {
     "cell_type": "heading",
     "level": 3,
     "metadata": {},
     "source": [
      "Brodmann map"
     ]
    },
    {
     "cell_type": "code",
     "collapsed": false,
     "input": [
      "# current freesurfer brodmann label files overlap - look for annot file\n",
      "# possible to use mris_label2annot, but seems to assign last label to vertex instead of most consistent one etc.\n",
      "\n",
      "\n",
      "labels = ['V1', 'V2', 'MT', 'BA4p', 'BA4a', 'BA6', 'BA44', 'BA45', 'BA3a', 'BA3b', 'BA1', 'BA2']\n",
      "\n",
      "ba_dict = {}\n",
      "for label in labels:\n",
      "    ba_dict[label] = np.sort(nib.freesurfer.io.read_label('%s/fsaverage5/label/%s.%s.label' % (fsDir, 'lh', label)))\n",
      "\n",
      "overlap = np.zeros((10242))\n",
      "\n",
      "for label in labels:\n",
      "    label_nodes = np.sort(nib.freesurfer.io.read_label('%s/fsaverage5/label/%s.%s.label' % (fsDir, 'lh', label)))\n",
      "    for node in range(len(overlap)):\n",
      "        if node in label_nodes:\n",
      "            overlap[node] = overlap[node] + 1\n",
      "            \n",
      "viz(overlap, overlap.min(), overlap.max()) # do for both hemispheres, use viz_both, show in different notebook"
     ],
     "language": "python",
     "metadata": {},
     "outputs": []
    },
    {
     "cell_type": "heading",
     "level": 3,
     "metadata": {},
     "source": [
      "Desikan-Killiany Atlas"
     ]
    },
    {
     "cell_type": "code",
     "collapsed": false,
     "input": [
      "df_temp = df[(df['normalized mean distance - group mean'] != 0)\n",
      "             & (df['sample'] == 'all subjects')\n",
      "             & ((df['threshold'] == '70') | (df['threshold'] == '98'))]\n",
      "g = sns.FacetGrid(df_temp, col='threshold', size=8, aspect=.7)\n",
      "g.map(sns.violinplot, 'region in Desikan-Killiany Atlas', 'normalized mean distance - group mean', 'hemisphere', split=True).despine(left=True)"
     ],
     "language": "python",
     "metadata": {},
     "outputs": []
    },
    {
     "cell_type": "heading",
     "level": 3,
     "metadata": {},
     "source": [
      "Destrieux Atlas"
     ]
    },
    {
     "cell_type": "code",
     "collapsed": false,
     "input": [
      "df_temp = df[(df['normalized mean distance - group mean'] != 0)\n",
      "             & (df['sample'] == 'all subjects')\n",
      "             & ((df['threshold'] == '70') | (df['threshold'] == '98'))]\n",
      "g = sns.FacetGrid(df_temp, col='threshold', size=8, aspect=.7)\n",
      "g.map(sns.violinplot, 'region in Destrieux Atlas', 'normalized mean distance - group mean', 'hemisphere', split=True).despine(left=True)"
     ],
     "language": "python",
     "metadata": {},
     "outputs": []
    }
   ],
   "metadata": {}
  }
 ]
}