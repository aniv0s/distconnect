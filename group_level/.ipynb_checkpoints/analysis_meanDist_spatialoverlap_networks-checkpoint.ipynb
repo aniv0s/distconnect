{
 "metadata": {
  "name": ""
 },
 "nbformat": 3,
 "nbformat_minor": 0,
 "worksheets": [
  {
   "cells": [
    {
     "cell_type": "code",
     "collapsed": false,
     "input": [
      "import pandas as pd\n",
      "import seaborn as sns\n",
      "import matplotlib.pyplot as plt\n",
      "import glob, os, time, datetime\n",
      "sns.set(style='ticks')\n",
      "from surfer import Brain, io\n",
      "from IPython.core.display import Image, display\n",
      "from scipy import stats\n",
      "import nibabel as nib\n",
      "from nipype.algorithms.icc import ICC_rep_anova\n",
      "\n",
      "fsDir = \"/afs/cbs.mpg.de/projects/mar004_lsd-lemon-preproc/freesurfer\"\n",
      "annotDir = '/scr/liberia1/data/Yeo_JNeurophysiol11_FreeSurfer'\n",
      "dataDir = '/afs/cbs.mpg.de/projects/mar005_lsd-lemon-surf/probands'\n",
      "docDir = '/afs/cbs.mpg.de/projects/mar005_lsd-lemon-surf/documents'\n",
      "thrs = [70, 75, 80, 85, 90, 95, 98]\n",
      "hemis = ['lh', 'rh']\n",
      "\n",
      "df = pd.read_pickle(max(glob.iglob('%s/data_grouplevel_20*.pkl' % docDir), key=os.path.getctime))\n",
      "\n",
      "    \n",
      "def viz_both(d_lh, min_lh, max_lh, d_rh, min_rh, max_rh, surf='pial', filename='temp.png'):\n",
      "    brain = Brain('fsaverage5', 'split', surf, curv=False, views=['lat', 'med'], config_opts={\"background\": \"white\"})\n",
      "    brain.add_data(d_lh, min_lh, max_lh, colormap=\"spectral\", alpha=0.6, hemi='lh')\n",
      "    brain.add_data(d_rh, min_rh, max_rh, colormap=\"spectral\", alpha=0.6, hemi='rh')\n",
      "    brain.save_image(filename)\n",
      "    display(Image(filename=filename, width=700))"
     ],
     "language": "python",
     "metadata": {},
     "outputs": []
    },
    {
     "cell_type": "heading",
     "level": 2,
     "metadata": {},
     "source": [
      "network-specific meanDist distributions per threshold"
     ]
    },
    {
     "cell_type": "heading",
     "level": 3,
     "metadata": {},
     "source": [
      "Yeo cluster maps"
     ]
    },
    {
     "cell_type": "code",
     "collapsed": false,
     "input": [
      "netw_order = ['visual', 'somatomotor', 'dorsal attention', 'ventral attention', 'limbic', 'frontoparietal', 'default']\n",
      "g = sns.FacetGrid(df[df['mean distance - group mean'] != 0], col='threshold', row='sample', size=4, aspect=.7)\n",
      "g.map(sns.violinplot, 'networks of Yeo 2011 (7 networks solution)', 'normalized mean distance - group mean', \n",
      "      'hemisphere', order=netw_order, split=True).despine(left=True).set_xticklabels(rotation=90)"
     ],
     "language": "python",
     "metadata": {},
     "outputs": []
    },
    {
     "cell_type": "code",
     "collapsed": false,
     "input": [
      "sns.tsplot(data=df[(df['mean distance - group mean'] != 0) \n",
      "                   & (df['hemisphere'] == 'lh')\n",
      "                   & (df['sample'] == 'all subjects')], time='threshold', unit='node', \n",
      "           condition='networks of Yeo 2011 (7 networks solution)', value='normalized mean distance - group mean')"
     ],
     "language": "python",
     "metadata": {},
     "outputs": []
    },
    {
     "cell_type": "code",
     "collapsed": false,
     "input": [
      "sns.tsplot(data=df[(df['mean distance - group mean'] != 0) \n",
      "                   & (df['hemisphere'] == 'rh')\n",
      "                   & (df['sample'] == 'all subjects')], time='threshold', unit='node', \n",
      "           condition='networks of Yeo 2011 (7 networks solution)', value='normalized mean distance - group mean')"
     ],
     "language": "python",
     "metadata": {},
     "outputs": []
    },
    {
     "cell_type": "code",
     "collapsed": false,
     "input": [
      "g = sns.FacetGrid(df[df['mean distance - group mean'] != 0], \n",
      "                  col='networks of Yeo 2011 (7 networks solution)', row='sample', size=6, aspect=.7, col_order=netw_order)\n",
      "g.map(sns.violinplot, 'threshold', 'normalized mean distance - group mean', \n",
      "      'hemisphere', split=True).despine(left=True).set_xticklabels(rotation=70)"
     ],
     "language": "python",
     "metadata": {},
     "outputs": []
    },
    {
     "cell_type": "heading",
     "level": 3,
     "metadata": {},
     "source": [
      "sample cluster maps"
     ]
    },
    {
     "cell_type": "code",
     "collapsed": false,
     "input": [
      "netw_order = ['visual', 'somatomotor', 'dorsal attention', 'ventral attention', 'limbic', 'frontoparietal', 'default']\n",
      "g = sns.FacetGrid(df[df['mean distance - group mean'] != 0], col='threshold', row='sample', size=4, aspect=.7)\n",
      "g.map(sns.violinplot, 'networks of sample (7 networks solution)', 'normalized mean distance - group mean', \n",
      "      'hemisphere', order=netw_order, split=True).despine(left=True).set_xticklabels(rotation=90)"
     ],
     "language": "python",
     "metadata": {},
     "outputs": []
    },
    {
     "cell_type": "code",
     "collapsed": false,
     "input": [
      "sns.tsplot(data=df[(df['mean distance - group mean'] != 0) \n",
      "                   & (df['hemisphere'] == 'lh')\n",
      "                   & (df['sample'] == 'all subjects')], time='threshold', unit='node', \n",
      "           condition='networks of sample (7 networks solution)', value='normalized mean distance - group mean')"
     ],
     "language": "python",
     "metadata": {},
     "outputs": []
    },
    {
     "cell_type": "code",
     "collapsed": false,
     "input": [
      "sns.tsplot(data=df[(df['mean distance - group mean'] != 0) \n",
      "                   & (df['hemisphere'] == 'rh')\n",
      "                   & (df['sample'] == 'all subjects')], time='threshold', unit='node', \n",
      "           condition='networks of sample (7 networks solution)', value='normalized mean distance - group mean')"
     ],
     "language": "python",
     "metadata": {},
     "outputs": []
    },
    {
     "cell_type": "code",
     "collapsed": false,
     "input": [
      "g = sns.FacetGrid(df[df['mean distance - group mean'] != 0], \n",
      "                  col='networks of sample (7 networks solution)', row='sample', size=6, aspect=.7, col_order=netw_order)\n",
      "g.map(sns.violinplot, 'threshold', 'normalized mean distance - group mean', \n",
      "      'hemisphere', split=True).despine(left=True).set_xticklabels(rotation=70)"
     ],
     "language": "python",
     "metadata": {},
     "outputs": []
    },
    {
     "cell_type": "heading",
     "level": 3,
     "metadata": {},
     "source": [
      "overlap between meanDist distributions of different networks"
     ]
    },
    {
     "cell_type": "code",
     "collapsed": false,
     "input": [
      "for thr in thrs:\n",
      "    print 'threshold', thr\n",
      "    for i in range(7):\n",
      "        ax = sns.kdeplot(df['normalized mean distance - group mean'][(df['normalized mean distance - group mean'] != 0)\n",
      "                                                                 & (df['networks of sample (7 networks solution)'] == netw_order[i])\n",
      "                                                                 & (df['threshold'] == str(thr))\n",
      "                                                                 & (df['sample'] == 'all subjects')])\n",
      "    plt.show()\n",
      "    clf()\n"
     ],
     "language": "python",
     "metadata": {},
     "outputs": []
    },
    {
     "cell_type": "code",
     "collapsed": false,
     "input": [
      "percent_overlap = np.zeros((7, 7, len(thrs)))\n",
      "descr_overlap = np.empty((7, 7, len(thrs)), dtype='S60')\n",
      "for n_thr, thr in enumerate(thrs):\n",
      "    for n1, netw1 in enumerate(netw_order):\n",
      "        for n2, netw2 in enumerate(netw_order):\n",
      "            meanDist_1 = np.array(df['normalized mean distance - group mean'][(df['mean distance - group mean'] != 0) \n",
      "                                                                              & (df['hemisphere'] == 'lh') \n",
      "                                                                              & (df['threshold'] == str(thr)) \n",
      "                                                                              & (df['networks of sample (7 networks solution)'] == netw1)\n",
      "                                                                              & (df['sample'] == 'all subjects')])\n",
      "        \n",
      "            meanDist_2 = np.array(df['normalized mean distance - group mean'][(df['mean distance - group mean'] != 0) \n",
      "                                                                              & (df['hemisphere'] == 'lh') \n",
      "                                                                              & (df['threshold'] == str(thr)) \n",
      "                                                                              & (df['networks of sample (7 networks solution)'] == netw2)\n",
      "                                                                              & (df['sample'] == 'all subjects')])\n",
      "            \n",
      "            ends = np.array([meanDist_1.min(), meanDist_2.min(), meanDist_1.max(), meanDist_2.max()])\n",
      "            bins = linspace(ends.min(), ends.max(), 50)\n",
      "            count_1 = np.bincount(np.digitize(meanDist_1, bins)).tolist()\n",
      "            count_2 = np.bincount(np.digitize(meanDist_2, bins)).tolist()\n",
      "            \n",
      "            while len(count_1) < 51:\n",
      "                count_1.append(0)\n",
      "                \n",
      "            while len(count_2) < 51:\n",
      "                count_2.append(0)\n",
      "                \n",
      "            combined_max = [np.array((count_1[n], count_2[n])).max() for n in range(51)]\n",
      "            combined_min = [np.array((count_1[n], count_2[n])).min() for n in range(51)]\n",
      "            percent_overlap[n_thr, n1, n2] = 100/(float(np.array(combined_max).sum())/float(np.array(combined_min).sum()))\n",
      "            descr_overlap[n_thr, n1, n2] = '%s - %s' % (netw1, netw2)"
     ],
     "language": "python",
     "metadata": {},
     "outputs": []
    },
    {
     "cell_type": "code",
     "collapsed": false,
     "input": [
      "for n, thr in enumerate(thrs):\n",
      "    print '\\nthreshold', thr\n",
      "    mask = np.zeros_like(percent_overlap[n])\n",
      "    mask[np.triu_indices_from(mask)] = True\n",
      "    sns.heatmap(percent_overlap[n], mask=mask, annot=True, square=True, linewidths=.5, cmap='spectral')\n",
      "    plt.show()\n",
      "    clf()"
     ],
     "language": "python",
     "metadata": {},
     "outputs": []
    },
    {
     "cell_type": "code",
     "collapsed": false,
     "input": [
      "df_overlap = pd.DataFrame(columns=['threshold', 'hemisphere', 'pair of networks', 'percent overlap'])\n",
      "\n",
      "for n_thr, thr in enumerate(thrs):\n",
      "    matrix = percent_overlap[n_thr]\n",
      "    matrix_descr = descr_overlap[n_thr]\n",
      "    matrix[np.triu_indices_from(matrix)] = 'nan'\n",
      "    matrix_descr[np.triu_indices_from(matrix_descr)] = ''\n",
      "    matrix = matrix[numpy.logical_not(numpy.isnan(matrix))]\n",
      "    matrix_descr = ravel(matrix_descr)[np.where(ravel(matrix_descr) != '')]\n",
      "    for i in range(len(matrix)):\n",
      "        df_overlap.loc[len(df_overlap)] = [str(thr), 'lh', matrix_descr[i], matrix[i]]"
     ],
     "language": "python",
     "metadata": {},
     "outputs": []
    },
    {
     "cell_type": "code",
     "collapsed": false,
     "input": [
      "sns.violinplot(x='threshold', y='percent overlap', data=df_overlap)"
     ],
     "language": "python",
     "metadata": {},
     "outputs": []
    },
    {
     "cell_type": "code",
     "collapsed": false,
     "input": [
      "sns.stripplot(x='threshold', y='percent overlap', data=df_overlap, jitter=True)"
     ],
     "language": "python",
     "metadata": {},
     "outputs": []
    },
    {
     "cell_type": "code",
     "collapsed": false,
     "input": [
      "sns.pointplot(x='percent overlap', y='pair of networks', data=df_overlap, order=set(df_overlap['pair of networks']), \n",
      "              hue='threshold', join=False, scale=.7)"
     ],
     "language": "python",
     "metadata": {},
     "outputs": []
    },
    {
     "cell_type": "code",
     "collapsed": false,
     "input": [],
     "language": "python",
     "metadata": {},
     "outputs": []
    }
   ],
   "metadata": {}
  }
 ]
}