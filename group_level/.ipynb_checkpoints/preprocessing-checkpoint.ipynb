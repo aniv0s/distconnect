{
 "metadata": {
  "name": ""
 },
 "nbformat": 3,
 "nbformat_minor": 0,
 "worksheets": [
  {
   "cells": [
    {
     "cell_type": "code",
     "collapsed": false,
     "input": [
      "import pandas as pd\n",
      "import seaborn as sns\n",
      "import matplotlib.pyplot as plt\n",
      "import glob, os, time, datetime\n",
      "sns.set(style='ticks')\n",
      "from surfer import Brain, io\n",
      "from IPython.core.display import Image, display\n",
      "from scipy import stats\n",
      "import nibabel as nib\n",
      "from nipype.algorithms.icc import ICC_rep_anova\n",
      "\n",
      "fsDir = \"/afs/cbs.mpg.de/projects/mar004_lsd-lemon-preproc/freesurfer\"\n",
      "annotDir = '/scr/liberia1/data/Yeo_JNeurophysiol11_FreeSurfer'\n",
      "dataDir = '/afs/cbs.mpg.de/projects/mar005_lsd-lemon-surf/probands'\n",
      "docDir = '/afs/cbs.mpg.de/projects/mar005_lsd-lemon-surf/documents'\n",
      "thrs = [70, 75, 80, 85, 90, 95, 98]\n",
      "hemis = ['lh', 'rh']\n",
      "\n",
      "df = pd.read_pickle(max(glob.iglob('%s/data_grouplevel_20*.pkl' % docDir), key=os.path.getctime))\n",
      "\n",
      "    \n",
      "def viz_both(d_lh, min_lh, max_lh, d_rh, min_rh, max_rh, surf='pial', filename='temp.png'):\n",
      "    brain = Brain('fsaverage5', 'split', surf, curv=False, views=['lat', 'med'], config_opts={\"background\": \"white\"})\n",
      "    brain.add_data(d_lh, min_lh, max_lh, colormap=\"spectral\", alpha=0.6, hemi='lh')\n",
      "    brain.add_data(d_rh, min_rh, max_rh, colormap=\"spectral\", alpha=0.6, hemi='rh')\n",
      "    brain.save_image(filename)\n",
      "    display(Image(filename=filename, width=700))"
     ],
     "language": "python",
     "metadata": {},
     "outputs": []
    },
    {
     "cell_type": "heading",
     "level": 3,
     "metadata": {},
     "source": [
      "nan group mask"
     ]
    },
    {
     "cell_type": "markdown",
     "metadata": {},
     "source": [
      "TODO: divide by number subjects to give % in sample"
     ]
    },
    {
     "cell_type": "code",
     "collapsed": false,
     "input": [
      "# summed nan values across subjects and scans\n",
      "data_lh = np.array(df['nan mask'][(df['threshold'] == '75') \n",
      "                                  & (df['hemisphere'] == 'lh')\n",
      "                                  & (df['sample'] == 'all subjects')])\n",
      "data_rh = np.array(df['nan mask'][(df['threshold'] == '75') \n",
      "                                  & (df['hemisphere'] == 'rh')\n",
      "                                  & (df['sample'] == 'all subjects')])\n",
      "print '\\nthr', sample\n",
      "viz_both(data_lh, data_lh[np.nonzero(data_lh)].min(), data_lh.max(),\n",
      "         data_rh, data_rh[np.nonzero(data_rh)].min(), data_rh.max())"
     ],
     "language": "python",
     "metadata": {},
     "outputs": []
    },
    {
     "cell_type": "markdown",
     "metadata": {},
     "source": [
      "TODO: run some plots on no-nan sample"
     ]
    },
    {
     "cell_type": "code",
     "collapsed": false,
     "input": [],
     "language": "python",
     "metadata": {},
     "outputs": []
    }
   ],
   "metadata": {}
  }
 ]
}