{
 "metadata": {
  "name": ""
 },
 "nbformat": 3,
 "nbformat_minor": 0,
 "worksheets": [
  {
   "cells": [
    {
     "cell_type": "code",
     "collapsed": false,
     "input": [
      "import pandas as pd\n",
      "import seaborn as sns\n",
      "import matplotlib.pyplot as plt\n",
      "import glob, os, time, datetime\n",
      "sns.set(style='ticks')\n",
      "from surfer import Brain, io\n",
      "from IPython.core.display import Image, display\n",
      "from scipy import stats\n",
      "import nibabel as nib\n",
      "from nipype.algorithms.icc import ICC_rep_anova\n",
      "\n",
      "fsDir = \"/afs/cbs.mpg.de/projects/mar004_lsd-lemon-preproc/freesurfer\"\n",
      "annotDir = '/scr/liberia1/data/Yeo_JNeurophysiol11_FreeSurfer'\n",
      "dataDir = '/afs/cbs.mpg.de/projects/mar005_lsd-lemon-surf/probands'\n",
      "docDir = '/afs/cbs.mpg.de/projects/mar005_lsd-lemon-surf/documents'\n",
      "thrs = [70, 75, 80, 85, 90, 95, 98]\n",
      "hemis = ['lh', 'rh']\n",
      "\n",
      "df = pd.read_pickle(max(glob.iglob('%s/data_grouplevel_20*.pkl' % docDir), key=os.path.getctime))\n",
      "\n",
      "    \n",
      "def viz_both(d_lh, min_lh, max_lh, d_rh, min_rh, max_rh, surf='pial', filename='temp.png'):\n",
      "    brain = Brain('fsaverage5', 'split', surf, curv=False, views=['lat', 'med'], config_opts={\"background\": \"white\"})\n",
      "    brain.add_data(d_lh, min_lh, max_lh, colormap=\"spectral\", alpha=0.6, hemi='lh')\n",
      "    brain.add_data(d_rh, min_rh, max_rh, colormap=\"spectral\", alpha=0.6, hemi='rh')\n",
      "    brain.save_image(filename)\n",
      "    display(Image(filename=filename, width=700))"
     ],
     "language": "python",
     "metadata": {},
     "outputs": []
    },
    {
     "cell_type": "heading",
     "level": 2,
     "metadata": {},
     "source": [
      "ICC"
     ]
    },
    {
     "cell_type": "code",
     "collapsed": false,
     "input": [
      "g = sns.FacetGrid(df[df['mean distance - group mean'] != 0], col='sample', size=5, aspect=.7)\n",
      "g.map(sns.violinplot, 'threshold', 'trt4_icc', 'hemisphere', \n",
      "      split=True).despine(left=True).set_xticklabels(rotation=90)"
     ],
     "language": "python",
     "metadata": {},
     "outputs": []
    },
    {
     "cell_type": "code",
     "collapsed": false,
     "input": [
      "g = sns.FacetGrid(df[df['mean distance - group mean'] != 0], col='sample', size=5, aspect=.7)\n",
      "g.map(sns.violinplot, 'threshold', 'trt2_icc', 'hemisphere', \n",
      "      split=True).despine(left=True).set_xticklabels(rotation=90)"
     ],
     "language": "python",
     "metadata": {},
     "outputs": []
    },
    {
     "cell_type": "heading",
     "level": 3,
     "metadata": {},
     "source": [
      "TRT - four 15-min scans"
     ]
    },
    {
     "cell_type": "code",
     "collapsed": false,
     "input": [
      "for thr in thrs:\n",
      "    for sample in samples.keys(): # see above\n",
      "        data_lh = np.array(df['trt4_icc'][(df['threshold'] == str(thr)) \n",
      "                                          & (df['hemisphere'] == 'lh')\n",
      "                                          & (df['sample'] == sample)])\n",
      "        data_rh = np.array(df['trt4_icc'][(df['threshold'] == str(thr)) \n",
      "                                          & (df['hemisphere'] == 'rh')\n",
      "                                          & (df['sample'] == sample)])\n",
      "        print '\\nthr', thr, sample\n",
      "        viz_both(data_lh, 0, 1,\n",
      "                 data_rh, 0, 1)"
     ],
     "language": "python",
     "metadata": {},
     "outputs": []
    },
    {
     "cell_type": "code",
     "collapsed": false,
     "input": [
      "netw_order = ['visual', 'somatomotor', 'dorsal attention', 'ventral attention', 'limbic', 'frontoparietal', 'default']\n",
      "g = sns.FacetGrid(df[df['mean distance - group mean'] != 0], col='threshold', row='sample', size=4, aspect=.7)\n",
      "g.map(sns.violinplot, 'networks of sample (7 networks solution)', 'trt4_icc', \n",
      "      'hemisphere', order=netw_order, split=True).despine(left=True).set_xticklabels(rotation=90)"
     ],
     "language": "python",
     "metadata": {},
     "outputs": []
    },
    {
     "cell_type": "heading",
     "level": 3,
     "metadata": {},
     "source": [
      "TRT - two 30-min scans"
     ]
    },
    {
     "cell_type": "code",
     "collapsed": false,
     "input": [
      "for thr in thrs:\n",
      "    for sample in samples.keys(): # see above\n",
      "        data_lh = np.array(df['trt2_icc'][(df['threshold'] == str(thr)) \n",
      "                                          & (df['hemisphere'] == 'lh')\n",
      "                                          & (df['sample'] == sample)])\n",
      "        data_rh = np.array(df['trt2_icc'][(df['threshold'] == str(thr)) \n",
      "                                          & (df['hemisphere'] == 'rh')\n",
      "                                          & (df['sample'] == sample)])\n",
      "        print '\\nthr', thr, sample\n",
      "        viz_both(data_lh, 0, 1, \n",
      "                 data_rh, 0, 1)"
     ],
     "language": "python",
     "metadata": {},
     "outputs": []
    },
    {
     "cell_type": "code",
     "collapsed": false,
     "input": [
      "for thr in thrs:\n",
      "    for sample in samples.keys(): # see above\n",
      "        data_lh = np.array(df['trt2_icc'][(df['threshold'] == str(thr)) \n",
      "                                          & (df['hemisphere'] == 'lh')\n",
      "                                          & (df['sample'] == sample)])\n",
      "        data_rh = np.array(df['trt2_icc'][(df['threshold'] == str(thr)) \n",
      "                                          & (df['hemisphere'] == 'rh')\n",
      "                                          & (df['sample'] == sample)])\n",
      "        print '\\nthr', thr, sample\n",
      "        viz_both(data_lh, 0, 1, \n",
      "                 data_rh, 0, 1)"
     ],
     "language": "python",
     "metadata": {},
     "outputs": []
    },
    {
     "cell_type": "code",
     "collapsed": false,
     "input": [
      "netw_order = ['visual', 'somatomotor', 'dorsal attention', 'ventral attention', 'limbic', 'frontoparietal', 'default']\n",
      "g = sns.FacetGrid(df[df['mean distance - group mean'] != 0], col='threshold', row='sample', size=4, aspect=.7)\n",
      "g.map(sns.violinplot, 'networks of sample (7 networks solution)', 'trt2_icc', \n",
      "      'hemisphere', order=netw_order, split=True).despine(left=True).set_xticklabels(rotation=90)"
     ],
     "language": "python",
     "metadata": {},
     "outputs": []
    }
   ],
   "metadata": {}
  }
 ]
}